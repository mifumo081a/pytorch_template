{
 "cells": [
  {
   "cell_type": "code",
   "execution_count": 9,
   "metadata": {},
   "outputs": [],
   "source": [
    "import os\n",
    "\n",
    "os.chdir(\"G:\\マイドライブ\\pytorch_template\")"
   ]
  },
  {
   "cell_type": "code",
   "execution_count": 10,
   "metadata": {},
   "outputs": [],
   "source": [
    "import numpy as np\n",
    "import torch\n",
    "from pytorch_template.base import BaseDataset\n",
    "from pytorch_template.cross_validation import GroupKFold_Dataset"
   ]
  },
  {
   "cell_type": "code",
   "execution_count": 11,
   "metadata": {},
   "outputs": [],
   "source": [
    "X = torch.tensor([[1, 2], [3, 4], [5, 6], [7, 8], [9, 10], [11, 12]]).to(torch.float)\n",
    "y = torch.tensor([1, 2, 3, 4, 5, 6]).to(torch.float)\n",
    "groups = np.array([0, 0, 2, 2, 3, 3])\n",
    "\n",
    "dataset = BaseDataset([X, y])"
   ]
  },
  {
   "cell_type": "code",
   "execution_count": 12,
   "metadata": {},
   "outputs": [
    {
     "name": "stdout",
     "output_type": "stream",
     "text": [
      "2\n"
     ]
    }
   ],
   "source": [
    "group_kfold = GroupKFold_Dataset(n_splits=2, dataset=dataset)\n",
    "print(group_kfold.n_splits)"
   ]
  },
  {
   "cell_type": "code",
   "execution_count": 13,
   "metadata": {},
   "outputs": [
    {
     "name": "stdout",
     "output_type": "stream",
     "text": [
      "All: 6\n",
      "Train: 2, Val: 4\n",
      "Train: 4, Val: 2\n",
      "Fold 0\n",
      "  Train: index=[2 3], group=[2 2]\n",
      "  Test:  index=[0 1 4 5], group=[0 0 3 3]\n",
      "Fold 1\n",
      "  Train: index=[0 1 4 5], group=[0 0 3 3]\n",
      "  Test:  index=[2 3], group=[2 2]\n"
     ]
    }
   ],
   "source": [
    "for i, (train_index, test_index) in enumerate(group_kfold.split(shuffle=False, random_state=None, groups=groups)):\n",
    "    print(f\"Fold {i}\")\n",
    "    print(f\"  Train: index={train_index}, group={groups[train_index]}\")\n",
    "    print(f\"  Test:  index={test_index}, group={groups[test_index]}\")"
   ]
  },
  {
   "cell_type": "code",
   "execution_count": 14,
   "metadata": {},
   "outputs": [
    {
     "name": "stdout",
     "output_type": "stream",
     "text": [
      "{'train': <torch.utils.data.dataset.Subset object at 0x000002D8B324D7C0>, 'val': <torch.utils.data.dataset.Subset object at 0x000002D8B324DF10>}\n",
      "{'train': <torch.utils.data.dataset.Subset object at 0x000002D8B27E6250>, 'val': <torch.utils.data.dataset.Subset object at 0x000002D8B27C03D0>}\n"
     ]
    }
   ],
   "source": [
    "for i in group_kfold.get_datasets():\n",
    "    print(i)"
   ]
  },
  {
   "cell_type": "code",
   "execution_count": null,
   "metadata": {},
   "outputs": [],
   "source": []
  }
 ],
 "metadata": {
  "kernelspec": {
   "display_name": "Python 3.8.15 ('pytorch_temp')",
   "language": "python",
   "name": "python3"
  },
  "language_info": {
   "codemirror_mode": {
    "name": "ipython",
    "version": 3
   },
   "file_extension": ".py",
   "mimetype": "text/x-python",
   "name": "python",
   "nbconvert_exporter": "python",
   "pygments_lexer": "ipython3",
   "version": "3.8.15"
  },
  "orig_nbformat": 4,
  "vscode": {
   "interpreter": {
    "hash": "d1b081f55579fdc2a3ab2ff3e69017c5f9705c518605191d82ccb71f4307c85b"
   }
  }
 },
 "nbformat": 4,
 "nbformat_minor": 2
}
